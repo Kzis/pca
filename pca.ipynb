{
  "nbformat": 4,
  "nbformat_minor": 0,
  "metadata": {
    "colab": {
      "name": "pca.ipynb",
      "version": "0.3.2",
      "provenance": [],
      "collapsed_sections": [],
      "include_colab_link": true
    },
    "kernelspec": {
      "name": "python3",
      "display_name": "Python 3"
    }
  },
  "cells": [
    {
      "cell_type": "markdown",
      "metadata": {
        "id": "view-in-github",
        "colab_type": "text"
      },
      "source": [
        "<a href=\"https://colab.research.google.com/github/Kzis/BADS4002/blob/master/pca.ipynb\" target=\"_parent\"><img src=\"https://colab.research.google.com/assets/colab-badge.svg\" alt=\"Open In Colab\"/></a>"
      ]
    },
    {
      "metadata": {
        "id": "OeVCk_pt_xvc",
        "colab_type": "code",
        "outputId": "849ec189-46c3-4814-e5fe-8229b4e5a29e",
        "colab": {
          "base_uri": "https://localhost:8080/",
          "height": 224
        }
      },
      "cell_type": "code",
      "source": [
        "import pandas as pd\n",
        "\n",
        "dataset = pd.read_csv('AirBNB_Taipei_listings_clean_missing.csv').drop('id', 1)\n",
        "\n",
        "dataset.head()\n"
      ],
      "execution_count": 2,
      "outputs": [
        {
          "output_type": "execute_result",
          "data": {
            "text/html": [
              "<div>\n",
              "<style scoped>\n",
              "    .dataframe tbody tr th:only-of-type {\n",
              "        vertical-align: middle;\n",
              "    }\n",
              "\n",
              "    .dataframe tbody tr th {\n",
              "        vertical-align: top;\n",
              "    }\n",
              "\n",
              "    .dataframe thead th {\n",
              "        text-align: right;\n",
              "    }\n",
              "</style>\n",
              "<table border=\"1\" class=\"dataframe\">\n",
              "  <thead>\n",
              "    <tr style=\"text-align: right;\">\n",
              "      <th></th>\n",
              "      <th>accommodates</th>\n",
              "      <th>bathrooms</th>\n",
              "      <th>bedrooms</th>\n",
              "      <th>beds</th>\n",
              "      <th>price</th>\n",
              "      <th>guests_included</th>\n",
              "      <th>extra_people</th>\n",
              "      <th>minimum_nights</th>\n",
              "      <th>maximum_nights</th>\n",
              "      <th>availability_30</th>\n",
              "      <th>availability_60</th>\n",
              "      <th>availability_90</th>\n",
              "      <th>availability_365</th>\n",
              "      <th>number_of_reviews</th>\n",
              "      <th>calculated_host_listings_count</th>\n",
              "    </tr>\n",
              "  </thead>\n",
              "  <tbody>\n",
              "    <tr>\n",
              "      <th>0</th>\n",
              "      <td>2</td>\n",
              "      <td>1.0</td>\n",
              "      <td>1</td>\n",
              "      <td>1</td>\n",
              "      <td>1523</td>\n",
              "      <td>2</td>\n",
              "      <td>0</td>\n",
              "      <td>7</td>\n",
              "      <td>365</td>\n",
              "      <td>0</td>\n",
              "      <td>0</td>\n",
              "      <td>0</td>\n",
              "      <td>238</td>\n",
              "      <td>2</td>\n",
              "      <td>13</td>\n",
              "    </tr>\n",
              "    <tr>\n",
              "      <th>1</th>\n",
              "      <td>2</td>\n",
              "      <td>1.0</td>\n",
              "      <td>1</td>\n",
              "      <td>1</td>\n",
              "      <td>914</td>\n",
              "      <td>1</td>\n",
              "      <td>0</td>\n",
              "      <td>30</td>\n",
              "      <td>365</td>\n",
              "      <td>0</td>\n",
              "      <td>0</td>\n",
              "      <td>11</td>\n",
              "      <td>286</td>\n",
              "      <td>6</td>\n",
              "      <td>13</td>\n",
              "    </tr>\n",
              "    <tr>\n",
              "      <th>2</th>\n",
              "      <td>3</td>\n",
              "      <td>1.0</td>\n",
              "      <td>1</td>\n",
              "      <td>1</td>\n",
              "      <td>1523</td>\n",
              "      <td>1</td>\n",
              "      <td>244</td>\n",
              "      <td>2</td>\n",
              "      <td>365</td>\n",
              "      <td>18</td>\n",
              "      <td>42</td>\n",
              "      <td>56</td>\n",
              "      <td>56</td>\n",
              "      <td>40</td>\n",
              "      <td>4</td>\n",
              "    </tr>\n",
              "    <tr>\n",
              "      <th>3</th>\n",
              "      <td>2</td>\n",
              "      <td>1.0</td>\n",
              "      <td>1</td>\n",
              "      <td>1</td>\n",
              "      <td>1279</td>\n",
              "      <td>1</td>\n",
              "      <td>244</td>\n",
              "      <td>1</td>\n",
              "      <td>365</td>\n",
              "      <td>22</td>\n",
              "      <td>52</td>\n",
              "      <td>82</td>\n",
              "      <td>82</td>\n",
              "      <td>44</td>\n",
              "      <td>4</td>\n",
              "    </tr>\n",
              "    <tr>\n",
              "      <th>4</th>\n",
              "      <td>4</td>\n",
              "      <td>4.0</td>\n",
              "      <td>1</td>\n",
              "      <td>4</td>\n",
              "      <td>396</td>\n",
              "      <td>1</td>\n",
              "      <td>350</td>\n",
              "      <td>1</td>\n",
              "      <td>90</td>\n",
              "      <td>26</td>\n",
              "      <td>54</td>\n",
              "      <td>84</td>\n",
              "      <td>353</td>\n",
              "      <td>47</td>\n",
              "      <td>16</td>\n",
              "    </tr>\n",
              "  </tbody>\n",
              "</table>\n",
              "</div>"
            ],
            "text/plain": [
              "   accommodates  bathrooms  bedrooms  beds  price  guests_included  \\\n",
              "0             2        1.0         1     1   1523                2   \n",
              "1             2        1.0         1     1    914                1   \n",
              "2             3        1.0         1     1   1523                1   \n",
              "3             2        1.0         1     1   1279                1   \n",
              "4             4        4.0         1     4    396                1   \n",
              "\n",
              "   extra_people  minimum_nights  maximum_nights  availability_30  \\\n",
              "0             0               7             365                0   \n",
              "1             0              30             365                0   \n",
              "2           244               2             365               18   \n",
              "3           244               1             365               22   \n",
              "4           350               1              90               26   \n",
              "\n",
              "   availability_60  availability_90  availability_365  number_of_reviews  \\\n",
              "0                0                0               238                  2   \n",
              "1                0               11               286                  6   \n",
              "2               42               56                56                 40   \n",
              "3               52               82                82                 44   \n",
              "4               54               84               353                 47   \n",
              "\n",
              "   calculated_host_listings_count  \n",
              "0                              13  \n",
              "1                              13  \n",
              "2                               4  \n",
              "3                               4  \n",
              "4                              16  "
            ]
          },
          "metadata": {
            "tags": []
          },
          "execution_count": 2
        }
      ]
    },
    {
      "metadata": {
        "id": "iy4ELkavFdRF",
        "colab_type": "code",
        "outputId": "b29f4719-afb0-44dc-99df-b2f7b227c8c1",
        "colab": {
          "base_uri": "https://localhost:8080/",
          "height": 255
        }
      },
      "cell_type": "code",
      "source": [
        "from sklearn.preprocessing import StandardScaler\n",
        "\n",
        "sc = StandardScaler()  \n",
        "X_train = sc.fit_transform(dataset)  \n",
        "\n",
        "print(len(X_train[0]))\n",
        "X_train"
      ],
      "execution_count": 3,
      "outputs": [
        {
          "output_type": "stream",
          "text": [
            "15\n"
          ],
          "name": "stdout"
        },
        {
          "output_type": "execute_result",
          "data": {
            "text/plain": [
              "array([[-0.62531604, -0.34117854, -0.25640569, ...,  0.39342733,\n",
              "        -0.60312427,  0.22604454],\n",
              "       [-0.62531604, -0.34117854, -0.25640569, ...,  0.76652263,\n",
              "        -0.51287398,  0.22604454],\n",
              "       [-0.28842068, -0.34117854, -0.25640569, ..., -1.0212257 ,\n",
              "         0.25425351, -0.47862181],\n",
              "       ...,\n",
              "       [-0.28842068, -0.34117854, -0.25640569, ..., -0.82690523,\n",
              "        -0.64824942, -0.63521433],\n",
              "       [ 0.04847469, -0.34117854, -1.31066079, ..., -0.11180589,\n",
              "        -0.64824942, -0.24373302],\n",
              "       [-0.62531604, -0.34117854, -0.25640569, ...,  1.36502968,\n",
              "        -0.64824942, -0.71351059]])"
            ]
          },
          "metadata": {
            "tags": []
          },
          "execution_count": 3
        }
      ]
    },
    {
      "metadata": {
        "id": "-ozTitR2GL4d",
        "colab_type": "code",
        "outputId": "a961ac53-c260-4e1a-86f1-38afcc7c24b0",
        "colab": {
          "base_uri": "https://localhost:8080/",
          "height": 1054
        }
      },
      "cell_type": "code",
      "source": [
        "import numpy as np\n",
        "cov_mat = np.cov(X_train.T) \n",
        "print('NumPy covariance matrix: \\n%s' %cov_mat)"
      ],
      "execution_count": 5,
      "outputs": [
        {
          "output_type": "stream",
          "text": [
            "NumPy covariance matrix: \n",
            "[[ 1.00011086e+00  4.25179493e-01  5.46096704e-01  6.90804075e-01\n",
            "   6.14689857e-02  5.63340051e-01  2.15591577e-01 -3.75173849e-02\n",
            "   2.88390161e-02  6.78172126e-02  5.77936173e-02  5.63903519e-02\n",
            "   1.09898334e-01  3.42839541e-02  3.17193270e-02]\n",
            " [ 4.25179493e-01  1.00011086e+00  3.07355102e-01  5.74314982e-01\n",
            "   5.20121092e-03  1.15689165e-01  5.16304208e-02 -1.96351746e-02\n",
            "   5.90997012e-02  1.62891161e-01  1.36341791e-01  1.23559374e-01\n",
            "   1.35560018e-01 -9.95116187e-02  1.57096128e-01]\n",
            " [ 5.46096704e-01  3.07355102e-01  1.00011086e+00  4.25297772e-01\n",
            "   6.79719789e-02  4.19390647e-01  1.03075217e-01 -5.54617277e-03\n",
            "   4.15960351e-02 -1.37575640e-02 -2.77019648e-02 -2.96807596e-02\n",
            "   3.83217406e-02 -1.16724041e-02 -2.46929227e-03]\n",
            " [ 6.90804075e-01  5.74314982e-01  4.25297772e-01  1.00011086e+00\n",
            "   1.87246139e-02  3.25660734e-01  1.20117312e-01 -2.59491965e-02\n",
            "   4.23559616e-02  1.57735200e-01  1.30844481e-01  1.20964538e-01\n",
            "   1.31029620e-01 -4.50231503e-02  1.70593822e-01]\n",
            " [ 6.14689857e-02  5.20121092e-03  6.79719789e-02  1.87246139e-02\n",
            "   1.00011086e+00  3.97526182e-02  7.33240090e-02  8.18164436e-03\n",
            "  -2.74307336e-03  1.26372405e-02  2.35973303e-03 -2.25267215e-03\n",
            "   1.62707527e-02 -2.92075947e-02 -2.06406581e-02]\n",
            " [ 5.63340051e-01  1.15689165e-01  4.19390647e-01  3.25660734e-01\n",
            "   3.97526182e-02  1.00011086e+00  2.19466906e-01 -4.45887212e-02\n",
            "   6.67930317e-04 -3.41877987e-02 -2.56291672e-02 -2.23574786e-02\n",
            "   3.51081557e-02  6.98207438e-02  5.07844138e-03]\n",
            " [ 2.15591577e-01  5.16304208e-02  1.03075217e-01  1.20117312e-01\n",
            "   7.33240090e-02  2.19466906e-01  1.00011086e+00 -2.48108231e-02\n",
            "  -1.08571203e-02  3.18120382e-03 -4.55179016e-03 -3.89872513e-03\n",
            "   4.04569303e-03  9.14269786e-03 -7.44224524e-02]\n",
            " [-3.75173849e-02 -1.96351746e-02 -5.54617277e-03 -2.59491965e-02\n",
            "   8.18164436e-03 -4.45887212e-02 -2.48108231e-02  1.00011086e+00\n",
            "   1.18012065e-02  2.18947342e-02  1.28028861e-02  1.23387517e-02\n",
            "   5.12138524e-02 -4.79351903e-02 -7.70107202e-03]\n",
            " [ 2.88390161e-02  5.90997012e-02  4.15960351e-02  4.23559616e-02\n",
            "  -2.74307336e-03  6.67930317e-04 -1.08571203e-02  1.18012065e-02\n",
            "   1.00011086e+00  2.71225887e-02  3.01102110e-02  3.02935675e-02\n",
            "   1.35822776e-01 -1.56253333e-02  1.38402388e-01]\n",
            " [ 6.78172126e-02  1.62891161e-01 -1.37575640e-02  1.57735200e-01\n",
            "   1.26372405e-02 -3.41877987e-02  3.18120382e-03  2.18947342e-02\n",
            "   2.71225887e-02  1.00011086e+00  9.39445933e-01  8.86313978e-01\n",
            "   4.75760605e-01 -1.98195863e-01  1.50099711e-01]\n",
            " [ 5.77936173e-02  1.36341791e-01 -2.77019648e-02  1.30844481e-01\n",
            "   2.35973303e-03 -2.56291672e-02 -4.55179016e-03  1.28028861e-02\n",
            "   3.01102110e-02  9.39445933e-01  1.00011086e+00  9.73597940e-01\n",
            "   5.10739661e-01 -1.37808212e-01  1.42758845e-01]\n",
            " [ 5.63903519e-02  1.23559374e-01 -2.96807596e-02  1.20964538e-01\n",
            "  -2.25267215e-03 -2.23574786e-02 -3.89872513e-03  1.23387517e-02\n",
            "   3.02935675e-02  8.86313978e-01  9.73597940e-01  1.00011086e+00\n",
            "   5.26465291e-01 -9.93770768e-02  1.38721079e-01]\n",
            " [ 1.09898334e-01  1.35560018e-01  3.83217406e-02  1.31029620e-01\n",
            "   1.62707527e-02  3.51081557e-02  4.04569303e-03  5.12138524e-02\n",
            "   1.35822776e-01  4.75760605e-01  5.10739661e-01  5.26465291e-01\n",
            "   1.00011086e+00 -2.43252477e-02  1.68200741e-01]\n",
            " [ 3.42839541e-02 -9.95116187e-02 -1.16724041e-02 -4.50231503e-02\n",
            "  -2.92075947e-02  6.98207438e-02  9.14269786e-03 -4.79351903e-02\n",
            "  -1.56253333e-02 -1.98195863e-01 -1.37808212e-01 -9.93770768e-02\n",
            "  -2.43252477e-02  1.00011086e+00 -1.13466768e-01]\n",
            " [ 3.17193270e-02  1.57096128e-01 -2.46929227e-03  1.70593822e-01\n",
            "  -2.06406581e-02  5.07844138e-03 -7.44224524e-02 -7.70107202e-03\n",
            "   1.38402388e-01  1.50099711e-01  1.42758845e-01  1.38721079e-01\n",
            "   1.68200741e-01 -1.13466768e-01  1.00011086e+00]]\n"
          ],
          "name": "stdout"
        }
      ]
    },
    {
      "metadata": {
        "id": "BQD2kld-G0FW",
        "colab_type": "code",
        "outputId": "626916bd-d7ca-42f3-94fa-7d46bba47683",
        "colab": {
          "base_uri": "https://localhost:8080/",
          "height": 1139
        }
      },
      "cell_type": "code",
      "source": [
        "eig_vals, eig_vecs = np.linalg.eig(cov_mat)\n",
        "\n",
        "print('Eigenvectors \\n%s' %eig_vecs)\n",
        "print('\\nEigenvalues \\n%s' %eig_vals)"
      ],
      "execution_count": 6,
      "outputs": [
        {
          "output_type": "stream",
          "text": [
            "Eigenvectors \n",
            "[[ 2.24402149e-01 -4.71892208e-01 -9.81009067e-04  1.29020438e-02\n",
            "   7.43937578e-01 -7.84004391e-02  3.31920158e-01  2.19246830e-01\n",
            "   3.73187763e-02 -3.38657473e-02 -1.91354278e-02  5.59000793e-02\n",
            "   2.69357282e-02 -3.67759842e-02 -2.92491320e-02]\n",
            " [ 2.35004202e-01 -2.78918042e-01  5.79451739e-04 -1.33411480e-02\n",
            "   9.77314718e-02  3.27481635e-01 -6.44415561e-01  1.07129558e-02\n",
            "  -5.93381770e-02  9.38882651e-02 -2.28413807e-01 -1.44908447e-02\n",
            "   1.09564027e-01  5.01473097e-01  8.01196899e-02]\n",
            " [ 1.38523232e-01 -4.07944693e-01 -1.34464432e-03 -4.59316280e-03\n",
            "  -9.60637540e-02 -3.62559232e-02  4.16030591e-04 -7.99690321e-01\n",
            "  -7.29133646e-02  4.17814659e-02  2.73884467e-02  1.02467366e-01\n",
            "   9.99453378e-02 -2.05879361e-01 -3.05998198e-01]\n",
            " [ 2.64702328e-01 -3.97233917e-01 -3.75645128e-03 -3.67928620e-02\n",
            "  -5.98855578e-01  1.75333724e-01  4.95729377e-01  2.25917864e-01\n",
            "   8.50192687e-02  1.95810669e-02 -1.55803656e-01  2.29337420e-02\n",
            "   7.37129824e-02  1.92787779e-01  9.79820920e-02]\n",
            " [ 1.95623349e-02 -4.99531547e-02  6.57813932e-05 -1.01229210e-02\n",
            "  -1.95526495e-02 -1.79959447e-01 -1.73404540e-02  5.78753684e-02\n",
            "   4.88466969e-02  4.93521154e-01  4.52266754e-01 -4.10626360e-01\n",
            "   5.78168528e-01  2.90329332e-02  7.98213534e-02]\n",
            " [ 1.11485613e-01 -3.81165714e-01  4.54255243e-03  1.31103831e-02\n",
            "  -2.41345162e-01 -2.74352966e-01 -4.72301789e-01  3.90382634e-01\n",
            "   7.41212499e-02 -1.20384072e-01  1.32114069e-01  4.42976314e-02\n",
            "  -1.25477112e-01 -5.24894348e-01 -4.94494534e-02]\n",
            " [ 4.79143308e-02 -1.71101091e-01 -2.66237529e-03 -6.76503356e-03\n",
            "  -2.92803051e-02 -4.02496489e-01  1.19433026e-02 -1.99592071e-01\n",
            "  -2.68490767e-02  1.27139681e-01  2.41566362e-01 -2.03449239e-01\n",
            "  -6.31092858e-01  3.24517337e-01  3.81201277e-01]\n",
            " [ 6.73344196e-03  4.42064123e-02 -2.08160122e-03 -7.17851110e-03\n",
            "   5.02664553e-03  8.38951641e-02 -2.00180799e-02  2.34960432e-02\n",
            "   1.17574397e-01  4.15953405e-01  3.06983394e-01  8.20741512e-01\n",
            "  -2.17847991e-02  1.38857568e-02  1.85914866e-01]\n",
            " [ 5.84223072e-02 -1.28531471e-02  1.93369667e-03 -5.73897927e-04\n",
            "  -7.26346005e-03  3.74718093e-01  3.86517565e-03  6.31034119e-02\n",
            "   2.18408929e-01 -2.95978776e-01  6.64834435e-01 -8.07529175e-02\n",
            "  -1.87549799e-01  2.17357843e-01 -4.30932780e-01]\n",
            " [ 4.59927070e-01  2.32574065e-01  2.67371544e-01  7.72800501e-01\n",
            "  -1.27437906e-02 -1.00748768e-01 -4.40789404e-03 -3.68254707e-02\n",
            "   2.07547787e-01  4.88098621e-02 -6.64968225e-02 -1.41297797e-02\n",
            "  -1.90188628e-02 -4.16888256e-03 -5.93372796e-02]\n",
            " [ 4.68034947e-01  2.50824128e-01 -7.91785425e-01 -1.59933030e-01\n",
            "   1.15684379e-02 -1.37699844e-01 -2.22388714e-02 -3.80926692e-02\n",
            "   1.98763637e-01 -1.45390614e-02 -4.86486033e-02  1.87863287e-03\n",
            "   5.92834612e-03 -1.29328538e-02 -4.68628823e-02]\n",
            " [ 4.59500750e-01  2.48953584e-01  5.48992887e-01 -6.06123773e-01\n",
            "   2.10283571e-02 -1.49395629e-01 -2.06505594e-02 -4.08148573e-02\n",
            "   1.68082522e-01 -4.73182856e-02 -3.34446920e-02  1.45794879e-02\n",
            "   2.03442188e-02 -1.16040857e-02 -2.96311718e-02]\n",
            " [ 3.37037011e-01  1.16117966e-01 -1.15485773e-02  4.56873529e-02\n",
            "  -3.74523858e-02  8.13123947e-04  4.39157243e-02  7.97577462e-02\n",
            "  -8.65249519e-01 -1.73013260e-01  2.51393920e-01  9.45399822e-02\n",
            "   7.41114786e-02 -1.05067742e-02  6.84017721e-02]\n",
            " [-1.00334958e-01 -5.98653244e-02 -2.51518628e-03  7.50653645e-02\n",
            "  -2.28530104e-02 -3.00754268e-01 -4.46388063e-02 -1.32611075e-01\n",
            "   1.96852965e-01 -6.40456428e-01  1.41909310e-01  2.08221439e-01\n",
            "   4.23418344e-01  2.26421900e-01  3.56615027e-01]\n",
            " [ 1.45612725e-01  9.09036680e-03 -1.54793999e-03 -1.18212184e-03\n",
            "   8.31905703e-02  5.43652383e-01  4.49125535e-03 -1.80923453e-01\n",
            "   1.19046215e-01 -9.00973945e-02  1.20807963e-01 -2.02050533e-01\n",
            "  -4.80635924e-02 -4.32222771e-01  6.13712717e-01]]\n",
            "\n",
            "Eigenvalues \n",
            "[3.48031397 2.73183617 0.01575044 0.10907604 0.23426564 1.25985269\n",
            " 0.41467303 0.52929402 0.59865172 1.05847726 1.03726735 0.99047943\n",
            " 0.91195651 0.81032675 0.81944194]\n"
          ],
          "name": "stdout"
        }
      ]
    },
    {
      "metadata": {
        "id": "ibk8mQSqHhMF",
        "colab_type": "code",
        "outputId": "a9f29995-26e5-49eb-d3f5-f952ce2ff1e4",
        "colab": {
          "base_uri": "https://localhost:8080/",
          "height": 1139
        }
      },
      "cell_type": "code",
      "source": [
        "cor_mat = np.corrcoef(X_train.T)\n",
        "\n",
        "eig_vals, eig_vecs = np.linalg.eig(cor_mat)\n",
        "\n",
        "print('Eigenvectors \\n%s' %eig_vecs)\n",
        "print('\\nEigenvalues \\n%s' %eig_vals)"
      ],
      "execution_count": 7,
      "outputs": [
        {
          "output_type": "stream",
          "text": [
            "Eigenvectors \n",
            "[[ 2.24402149e-01 -4.71892208e-01 -9.81009067e-04  1.29020438e-02\n",
            "   7.43937578e-01 -7.84004391e-02  3.31920158e-01  2.19246830e-01\n",
            "   3.73187763e-02 -3.38657473e-02 -1.91354278e-02  5.59000793e-02\n",
            "   2.69357282e-02 -3.67759842e-02 -2.92491320e-02]\n",
            " [ 2.35004202e-01 -2.78918042e-01  5.79451739e-04 -1.33411480e-02\n",
            "   9.77314718e-02  3.27481635e-01 -6.44415561e-01  1.07129558e-02\n",
            "  -5.93381770e-02  9.38882651e-02 -2.28413807e-01 -1.44908447e-02\n",
            "   1.09564027e-01  5.01473097e-01  8.01196899e-02]\n",
            " [ 1.38523232e-01 -4.07944693e-01 -1.34464432e-03 -4.59316280e-03\n",
            "  -9.60637540e-02 -3.62559232e-02  4.16030591e-04 -7.99690321e-01\n",
            "  -7.29133646e-02  4.17814659e-02  2.73884467e-02  1.02467366e-01\n",
            "   9.99453378e-02 -2.05879361e-01 -3.05998198e-01]\n",
            " [ 2.64702328e-01 -3.97233917e-01 -3.75645128e-03 -3.67928620e-02\n",
            "  -5.98855578e-01  1.75333724e-01  4.95729377e-01  2.25917864e-01\n",
            "   8.50192687e-02  1.95810669e-02 -1.55803656e-01  2.29337420e-02\n",
            "   7.37129824e-02  1.92787779e-01  9.79820920e-02]\n",
            " [ 1.95623349e-02 -4.99531547e-02  6.57813932e-05 -1.01229210e-02\n",
            "  -1.95526495e-02 -1.79959447e-01 -1.73404540e-02  5.78753684e-02\n",
            "   4.88466969e-02  4.93521154e-01  4.52266754e-01 -4.10626360e-01\n",
            "   5.78168528e-01  2.90329332e-02  7.98213534e-02]\n",
            " [ 1.11485613e-01 -3.81165714e-01  4.54255243e-03  1.31103831e-02\n",
            "  -2.41345162e-01 -2.74352966e-01 -4.72301789e-01  3.90382634e-01\n",
            "   7.41212499e-02 -1.20384072e-01  1.32114069e-01  4.42976314e-02\n",
            "  -1.25477112e-01 -5.24894348e-01 -4.94494534e-02]\n",
            " [ 4.79143308e-02 -1.71101091e-01 -2.66237529e-03 -6.76503356e-03\n",
            "  -2.92803051e-02 -4.02496489e-01  1.19433026e-02 -1.99592071e-01\n",
            "  -2.68490767e-02  1.27139681e-01  2.41566362e-01 -2.03449239e-01\n",
            "  -6.31092858e-01  3.24517337e-01  3.81201277e-01]\n",
            " [ 6.73344196e-03  4.42064123e-02 -2.08160122e-03 -7.17851110e-03\n",
            "   5.02664553e-03  8.38951641e-02 -2.00180799e-02  2.34960432e-02\n",
            "   1.17574397e-01  4.15953405e-01  3.06983394e-01  8.20741512e-01\n",
            "  -2.17847991e-02  1.38857568e-02  1.85914866e-01]\n",
            " [ 5.84223072e-02 -1.28531471e-02  1.93369667e-03 -5.73897927e-04\n",
            "  -7.26346005e-03  3.74718093e-01  3.86517565e-03  6.31034119e-02\n",
            "   2.18408929e-01 -2.95978776e-01  6.64834435e-01 -8.07529175e-02\n",
            "  -1.87549799e-01  2.17357843e-01 -4.30932780e-01]\n",
            " [ 4.59927070e-01  2.32574065e-01  2.67371544e-01  7.72800501e-01\n",
            "  -1.27437906e-02 -1.00748768e-01 -4.40789404e-03 -3.68254707e-02\n",
            "   2.07547787e-01  4.88098621e-02 -6.64968225e-02 -1.41297797e-02\n",
            "  -1.90188628e-02 -4.16888256e-03 -5.93372796e-02]\n",
            " [ 4.68034947e-01  2.50824128e-01 -7.91785425e-01 -1.59933030e-01\n",
            "   1.15684379e-02 -1.37699844e-01 -2.22388714e-02 -3.80926692e-02\n",
            "   1.98763637e-01 -1.45390614e-02 -4.86486033e-02  1.87863287e-03\n",
            "   5.92834612e-03 -1.29328538e-02 -4.68628823e-02]\n",
            " [ 4.59500750e-01  2.48953584e-01  5.48992887e-01 -6.06123773e-01\n",
            "   2.10283571e-02 -1.49395629e-01 -2.06505594e-02 -4.08148573e-02\n",
            "   1.68082522e-01 -4.73182856e-02 -3.34446920e-02  1.45794879e-02\n",
            "   2.03442188e-02 -1.16040857e-02 -2.96311718e-02]\n",
            " [ 3.37037011e-01  1.16117966e-01 -1.15485773e-02  4.56873529e-02\n",
            "  -3.74523858e-02  8.13123947e-04  4.39157243e-02  7.97577462e-02\n",
            "  -8.65249519e-01 -1.73013260e-01  2.51393920e-01  9.45399822e-02\n",
            "   7.41114786e-02 -1.05067742e-02  6.84017721e-02]\n",
            " [-1.00334958e-01 -5.98653244e-02 -2.51518628e-03  7.50653645e-02\n",
            "  -2.28530104e-02 -3.00754268e-01 -4.46388063e-02 -1.32611075e-01\n",
            "   1.96852965e-01 -6.40456428e-01  1.41909310e-01  2.08221439e-01\n",
            "   4.23418344e-01  2.26421900e-01  3.56615027e-01]\n",
            " [ 1.45612725e-01  9.09036680e-03 -1.54793999e-03 -1.18212184e-03\n",
            "   8.31905703e-02  5.43652383e-01  4.49125535e-03 -1.80923453e-01\n",
            "   1.19046215e-01 -9.00973945e-02  1.20807963e-01 -2.02050533e-01\n",
            "  -4.80635924e-02 -4.32222771e-01  6.13712717e-01]]\n",
            "\n",
            "Eigenvalues \n",
            "[3.47992817 2.73153334 0.01574869 0.10906395 0.23423967 1.25971303\n",
            " 0.41462707 0.52923535 0.59858536 1.05835993 1.03715236 0.99036964\n",
            " 0.91185542 0.81023693 0.8193511 ]\n"
          ],
          "name": "stdout"
        }
      ]
    },
    {
      "metadata": {
        "id": "U81e2JyAFvy8",
        "colab_type": "code",
        "outputId": "d14faa48-076b-4d57-c65a-2db665313b35",
        "colab": {
          "base_uri": "https://localhost:8080/",
          "height": 238
        }
      },
      "cell_type": "code",
      "source": [
        "from sklearn.decomposition import PCA\n",
        "\n",
        "pca = PCA()  \n",
        "X_train = pca.fit_transform(X_train)  \n",
        "\n",
        "X_train"
      ],
      "execution_count": 8,
      "outputs": [
        {
          "output_type": "execute_result",
          "data": {
            "text/plain": [
              "array([[-2.56073001e+00,  2.96063569e-01, -7.75753083e-01, ...,\n",
              "         1.53057509e-01,  3.10351146e-01,  5.46671691e-02],\n",
              "       [-2.34287929e+00, -1.28840006e-01, -9.77438606e-01, ...,\n",
              "         9.04971510e-04,  9.99884488e-02, -1.32656596e-01],\n",
              "       [-6.65158271e-01, -7.82224724e-01,  7.08658955e-01, ...,\n",
              "        -2.46737611e-01,  1.48380635e-01,  1.75214801e-01],\n",
              "       ...,\n",
              "       [ 9.90400811e-01, -1.09233623e+00,  6.41984928e-01, ...,\n",
              "         1.34057539e-01,  2.97782606e-01,  1.05502360e-01],\n",
              "       [ 9.55210672e-01, -1.73015578e+00, -3.04417525e-01, ...,\n",
              "        -4.03380086e-01, -1.44427632e-02, -2.89785345e-02],\n",
              "       [ 1.29942247e+00, -2.05106692e+00,  9.11906049e-01, ...,\n",
              "         4.85112937e-02,  1.42322214e-01, -1.84772329e-02]])"
            ]
          },
          "metadata": {
            "tags": []
          },
          "execution_count": 8
        }
      ]
    },
    {
      "metadata": {
        "id": "1GmqbVOtF_nN",
        "colab_type": "code",
        "outputId": "7e0654cd-b056-4c12-fb08-730bb12d219f",
        "colab": {
          "base_uri": "https://localhost:8080/",
          "height": 68
        }
      },
      "cell_type": "code",
      "source": [
        "explained_variance = pca.explained_variance_ratio_  \n",
        "explained_variance"
      ],
      "execution_count": 9,
      "outputs": [
        {
          "output_type": "execute_result",
          "data": {
            "text/plain": [
              "array([0.23199521, 0.18210222, 0.08398087, 0.07055733, 0.06914349,\n",
              "       0.06602464, 0.06079036, 0.05462341, 0.0540158 , 0.03990569,\n",
              "       0.03528236, 0.0276418 , 0.01561598, 0.00727093, 0.00104991])"
            ]
          },
          "metadata": {
            "tags": []
          },
          "execution_count": 9
        }
      ]
    },
    {
      "metadata": {
        "id": "pF9z8FqLJOBJ",
        "colab_type": "code",
        "outputId": "980fe117-d496-413b-80a1-23180031ba19",
        "colab": {
          "base_uri": "https://localhost:8080/",
          "height": 238
        }
      },
      "cell_type": "code",
      "source": [
        "from sklearn.decomposition import PCA\n",
        "\n",
        "pca = PCA()  \n",
        "X_train = pca.fit_transform(X_train)  \n",
        "\n",
        "X_train"
      ],
      "execution_count": 10,
      "outputs": [
        {
          "output_type": "execute_result",
          "data": {
            "text/plain": [
              "array([[-2.56073001e+00,  2.96063569e-01, -7.75753083e-01, ...,\n",
              "         1.53057509e-01,  3.10351146e-01,  5.46671691e-02],\n",
              "       [-2.34287929e+00, -1.28840006e-01, -9.77438606e-01, ...,\n",
              "         9.04971510e-04,  9.99884488e-02, -1.32656596e-01],\n",
              "       [-6.65158271e-01, -7.82224724e-01,  7.08658955e-01, ...,\n",
              "        -2.46737611e-01,  1.48380635e-01,  1.75214801e-01],\n",
              "       ...,\n",
              "       [ 9.90400811e-01, -1.09233623e+00,  6.41984928e-01, ...,\n",
              "         1.34057539e-01,  2.97782606e-01,  1.05502360e-01],\n",
              "       [ 9.55210672e-01, -1.73015578e+00, -3.04417525e-01, ...,\n",
              "        -4.03380086e-01, -1.44427632e-02, -2.89785345e-02],\n",
              "       [ 1.29942247e+00, -2.05106692e+00,  9.11906049e-01, ...,\n",
              "         4.85112937e-02,  1.42322214e-01, -1.84772329e-02]])"
            ]
          },
          "metadata": {
            "tags": []
          },
          "execution_count": 10
        }
      ]
    },
    {
      "metadata": {
        "id": "rXnVgPp7JWIF",
        "colab_type": "code",
        "outputId": "4b3ab926-2fcc-4074-aef4-47fb895d88e9",
        "colab": {
          "base_uri": "https://localhost:8080/",
          "height": 68
        }
      },
      "cell_type": "code",
      "source": [
        "explained_variance = pca.explained_variance_ratio_  \n",
        "explained_variance"
      ],
      "execution_count": 11,
      "outputs": [
        {
          "output_type": "execute_result",
          "data": {
            "text/plain": [
              "array([0.23199521, 0.18210222, 0.08398087, 0.07055733, 0.06914349,\n",
              "       0.06602464, 0.06079036, 0.05462341, 0.0540158 , 0.03990569,\n",
              "       0.03528236, 0.0276418 , 0.01561598, 0.00727093, 0.00104991])"
            ]
          },
          "metadata": {
            "tags": []
          },
          "execution_count": 11
        }
      ]
    },
    {
      "metadata": {
        "id": "03aidWR-apQH",
        "colab_type": "code",
        "colab": {
          "base_uri": "https://localhost:8080/",
          "height": 97
        },
        "outputId": "3540f880-13b8-4c6a-f852-65d25f10158a"
      },
      "cell_type": "code",
      "source": [
        "df = pd.DataFrame()\n",
        "df = df.append(pd.DataFrame(explained_variance.tolist(), columns=['Proportion of Variance Explained']))\n",
        "df.index = np.arange(1,len(df)+1)\n",
        "df.T"
      ],
      "execution_count": 39,
      "outputs": [
        {
          "output_type": "execute_result",
          "data": {
            "text/html": [
              "<div>\n",
              "<style scoped>\n",
              "    .dataframe tbody tr th:only-of-type {\n",
              "        vertical-align: middle;\n",
              "    }\n",
              "\n",
              "    .dataframe tbody tr th {\n",
              "        vertical-align: top;\n",
              "    }\n",
              "\n",
              "    .dataframe thead th {\n",
              "        text-align: right;\n",
              "    }\n",
              "</style>\n",
              "<table border=\"1\" class=\"dataframe\">\n",
              "  <thead>\n",
              "    <tr style=\"text-align: right;\">\n",
              "      <th></th>\n",
              "      <th>1</th>\n",
              "      <th>2</th>\n",
              "      <th>3</th>\n",
              "      <th>4</th>\n",
              "      <th>5</th>\n",
              "      <th>6</th>\n",
              "      <th>7</th>\n",
              "      <th>8</th>\n",
              "      <th>9</th>\n",
              "      <th>10</th>\n",
              "      <th>11</th>\n",
              "      <th>12</th>\n",
              "      <th>13</th>\n",
              "      <th>14</th>\n",
              "      <th>15</th>\n",
              "    </tr>\n",
              "  </thead>\n",
              "  <tbody>\n",
              "    <tr>\n",
              "      <th>Proportion of Variance Explained</th>\n",
              "      <td>0.231995</td>\n",
              "      <td>0.182102</td>\n",
              "      <td>0.083981</td>\n",
              "      <td>0.070557</td>\n",
              "      <td>0.069143</td>\n",
              "      <td>0.066025</td>\n",
              "      <td>0.06079</td>\n",
              "      <td>0.054623</td>\n",
              "      <td>0.054016</td>\n",
              "      <td>0.039906</td>\n",
              "      <td>0.035282</td>\n",
              "      <td>0.027642</td>\n",
              "      <td>0.015616</td>\n",
              "      <td>0.007271</td>\n",
              "      <td>0.00105</td>\n",
              "    </tr>\n",
              "  </tbody>\n",
              "</table>\n",
              "</div>"
            ],
            "text/plain": [
              "                                        1         2         3         4   \\\n",
              "Proportion of Variance Explained  0.231995  0.182102  0.083981  0.070557   \n",
              "\n",
              "                                        5         6        7         8   \\\n",
              "Proportion of Variance Explained  0.069143  0.066025  0.06079  0.054623   \n",
              "\n",
              "                                        9         10        11        12  \\\n",
              "Proportion of Variance Explained  0.054016  0.039906  0.035282  0.027642   \n",
              "\n",
              "                                        13        14       15  \n",
              "Proportion of Variance Explained  0.015616  0.007271  0.00105  "
            ]
          },
          "metadata": {
            "tags": []
          },
          "execution_count": 39
        }
      ]
    },
    {
      "metadata": {
        "id": "MhbpooxwWfVf",
        "colab_type": "code",
        "colab": {
          "base_uri": "https://localhost:8080/",
          "height": 376
        },
        "outputId": "621eb908-8cce-4598-b333-a25a63597af1"
      },
      "cell_type": "code",
      "source": [
        "#plot \n",
        "import matplotlib.pyplot as plt\n",
        "plt.plot(range(1,16),explained_variance*100, marker='o')\n",
        "plt.axis([0, 17, 0, 100])\n",
        "plt.xlabel(\"Principal Component\")\n",
        "plt.ylabel(\"Proportion of Variance Explained\")\n",
        "plt.title(\"tt\")\n",
        "plt.show()"
      ],
      "execution_count": 21,
      "outputs": [
        {
          "output_type": "display_data",
          "data": {
            "image/png": "[encoded data removed]",
            "text/plain": [
              "<matplotlib.figure.Figure at 0x7fdcc6cf3e80>"
            ]
          },
          "metadata": {
            "tags": []
          }
        }
      ]
    },
    {
      "metadata": {
        "id": "XNcTw-NRXS1X",
        "colab_type": "code",
        "colab": {
          "base_uri": "https://localhost:8080/",
          "height": 68
        },
        "outputId": "4d7ccdf1-4e59-4264-a285-a0317b8a162e"
      },
      "cell_type": "code",
      "source": [
        "cumulative = pca.explained_variance_ratio_.cumsum()\n",
        "cumulative"
      ],
      "execution_count": 38,
      "outputs": [
        {
          "output_type": "execute_result",
          "data": {
            "text/plain": [
              "array([0.23199521, 0.41409743, 0.4980783 , 0.56863563, 0.63777912,\n",
              "       0.70380376, 0.76459413, 0.81921753, 0.87323333, 0.91313902,\n",
              "       0.94842138, 0.97606318, 0.99167916, 0.99895009, 1.        ])"
            ]
          },
          "metadata": {
            "tags": []
          },
          "execution_count": 38
        }
      ]
    },
    {
      "metadata": {
        "id": "u0vjFUGeWlnh",
        "colab_type": "code",
        "colab": {
          "base_uri": "https://localhost:8080/",
          "height": 97
        },
        "outputId": "368485f5-ee69-4c64-b728-9a44d3f428f5"
      },
      "cell_type": "code",
      "source": [
        "df = pd.DataFrame()\n",
        "df = df.append(pd.DataFrame(cumulative.tolist(), columns=['Cumulative Proportion of Variance Explained']))\n",
        "df.index = np.arange(1,len(df)+1)\n",
        "df.T"
      ],
      "execution_count": 37,
      "outputs": [
        {
          "output_type": "execute_result",
          "data": {
            "text/html": [
              "<div>\n",
              "<style scoped>\n",
              "    .dataframe tbody tr th:only-of-type {\n",
              "        vertical-align: middle;\n",
              "    }\n",
              "\n",
              "    .dataframe tbody tr th {\n",
              "        vertical-align: top;\n",
              "    }\n",
              "\n",
              "    .dataframe thead th {\n",
              "        text-align: right;\n",
              "    }\n",
              "</style>\n",
              "<table border=\"1\" class=\"dataframe\">\n",
              "  <thead>\n",
              "    <tr style=\"text-align: right;\">\n",
              "      <th></th>\n",
              "      <th>1</th>\n",
              "      <th>2</th>\n",
              "      <th>3</th>\n",
              "      <th>4</th>\n",
              "      <th>5</th>\n",
              "      <th>6</th>\n",
              "      <th>7</th>\n",
              "      <th>8</th>\n",
              "      <th>9</th>\n",
              "      <th>10</th>\n",
              "      <th>11</th>\n",
              "      <th>12</th>\n",
              "      <th>13</th>\n",
              "      <th>14</th>\n",
              "      <th>15</th>\n",
              "    </tr>\n",
              "  </thead>\n",
              "  <tbody>\n",
              "    <tr>\n",
              "      <th>Cumulative Proportion of Variance Explained</th>\n",
              "      <td>0.231995</td>\n",
              "      <td>0.414097</td>\n",
              "      <td>0.498078</td>\n",
              "      <td>0.568636</td>\n",
              "      <td>0.637779</td>\n",
              "      <td>0.703804</td>\n",
              "      <td>0.764594</td>\n",
              "      <td>0.819218</td>\n",
              "      <td>0.873233</td>\n",
              "      <td>0.913139</td>\n",
              "      <td>0.948421</td>\n",
              "      <td>0.976063</td>\n",
              "      <td>0.991679</td>\n",
              "      <td>0.99895</td>\n",
              "      <td>1.0</td>\n",
              "    </tr>\n",
              "  </tbody>\n",
              "</table>\n",
              "</div>"
            ],
            "text/plain": [
              "                                                   1         2         3   \\\n",
              "Cumulative Proportion of Variance Explained  0.231995  0.414097  0.498078   \n",
              "\n",
              "                                                   4         5         6   \\\n",
              "Cumulative Proportion of Variance Explained  0.568636  0.637779  0.703804   \n",
              "\n",
              "                                                   7         8         9   \\\n",
              "Cumulative Proportion of Variance Explained  0.764594  0.819218  0.873233   \n",
              "\n",
              "                                                   10        11        12  \\\n",
              "Cumulative Proportion of Variance Explained  0.913139  0.948421  0.976063   \n",
              "\n",
              "                                                   13       14   15  \n",
              "Cumulative Proportion of Variance Explained  0.991679  0.99895  1.0  "
            ]
          },
          "metadata": {
            "tags": []
          },
          "execution_count": 37
        }
      ]
    },
    {
      "metadata": {
        "id": "8AxA3Ve0XifY",
        "colab_type": "code",
        "colab": {
          "base_uri": "https://localhost:8080/",
          "height": 376
        },
        "outputId": "576bef53-00df-4cfa-e9d1-092e2d3a5fc8"
      },
      "cell_type": "code",
      "source": [
        "#plot \n",
        "import matplotlib.pyplot as plt\n",
        "plt.plot(range(1,16),cumulative*100, marker='o')\n",
        "plt.axis([0, 17, 0, 120])\n",
        "plt.xlabel(\"Principal Component\")\n",
        "plt.ylabel(\"Cumulative Proportion of Variance Explained\")\n",
        "plt.title(\"tt\")\n",
        "plt.show()"
      ],
      "execution_count": 19,
      "outputs": [
        {
          "output_type": "display_data",
          "data": {
            "image/png": "[encoded data removed]",
            "text/plain": [
              "<matplotlib.figure.Figure at 0x7fdcc6d4ecf8>"
            ]
          },
          "metadata": {
            "tags": []
          }
        }
      ]
    }
  ]
}